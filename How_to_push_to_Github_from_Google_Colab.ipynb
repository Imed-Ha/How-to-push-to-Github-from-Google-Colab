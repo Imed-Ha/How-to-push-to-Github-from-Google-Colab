{
  "nbformat": 4,
  "nbformat_minor": 0,
  "metadata": {
    "colab": {
      "provenance": [],
      "mount_file_id": "1-djjPFkBe-XkCdeBDJicREOvdXULM3Zr",
      "authorship_tag": "ABX9TyPmyRbUekaBba7E4lv3KMN0",
      "include_colab_link": true
    },
    "kernelspec": {
      "name": "python3",
      "display_name": "Python 3"
    },
    "language_info": {
      "name": "python"
    }
  },
  "cells": [
    {
      "cell_type": "markdown",
      "metadata": {
        "id": "view-in-github",
        "colab_type": "text"
      },
      "source": [
        "<a href=\"https://colab.research.google.com/github/Imed-Ha/How-to-push-to-Github-from-Google-Colab/blob/main/How_to_push_to_Github_from_Google_Colab.ipynb\" target=\"_parent\"><img src=\"https://colab.research.google.com/assets/colab-badge.svg\" alt=\"Open In Colab\"/></a>"
      ]
    },
    {
      "cell_type": "code",
      "execution_count": null,
      "metadata": {
        "id": "E8GhBFDtxvRq"
      },
      "outputs": [],
      "source": []
    }
  ]
}