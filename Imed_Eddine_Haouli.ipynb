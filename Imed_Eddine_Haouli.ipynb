{
  "nbformat": 4,
  "nbformat_minor": 0,
  "metadata": {
    "colab": {
      "provenance": [],
      "mount_file_id": "1-djjPFkBe-XkCdeBDJicREOvdXULM3Zr",
      "authorship_tag": "ABX9TyNJZ+hRxTjhU3qNswb2kB3w",
      "include_colab_link": true
    },
    "kernelspec": {
      "name": "python3",
      "display_name": "Python 3"
    },
    "language_info": {
      "name": "python"
    }
  },
  "cells": [
    {
      "cell_type": "markdown",
      "metadata": {
        "id": "view-in-github",
        "colab_type": "text"
      },
      "source": [
        "<a href=\"https://colab.research.google.com/github/Imed-Ha/How-to-push-to-Github-from-Google-Colab/blob/main/Imed_Eddine_Haouli.ipynb\" target=\"_parent\"><img src=\"https://colab.research.google.com/assets/colab-badge.svg\" alt=\"Open In Colab\"/></a>"
      ]
    },
    {
      "cell_type": "markdown",
      "source": [
        "**Follow these steps**"
      ],
      "metadata": {
        "id": "mXERdPn93Oee"
      }
    },
    {
      "cell_type": "code",
      "execution_count": 3,
      "metadata": {
        "id": "E8GhBFDtxvRq",
        "colab": {
          "base_uri": "https://localhost:8080/"
        },
        "outputId": "870d5ebd-627b-4601-d920-090bc0aa6f8c"
      },
      "outputs": [
        {
          "output_type": "stream",
          "name": "stdout",
          "text": [
            "/content/drive/MyDrive/Github\n"
          ]
        }
      ],
      "source": [
        "# create folder in your drive (For example Github)\n",
        "%cd /content/drive/MyDrive/Github/"
      ]
    },
    {
      "cell_type": "code",
      "source": [
        "# The required information is as follows:\n",
        "\n",
        "# Username of your Github\n",
        "username = input(\"Enter your Github\")\n",
        "\n",
        "# Password\n",
        "password = input(\"Enter your Password\")\n",
        "\n",
        "# email\n",
        "email = input(\"Enter your email\")\n",
        "\n",
        "# your repository name\n",
        "repo= input(\"Enter your repository name\")\n",
        "\n",
        "# You should generate token from your github\n",
        "token= input(\"Enter your token\")"
      ],
      "metadata": {
        "id": "TAVhACPa5x2z"
      },
      "execution_count": null,
      "outputs": []
    },
    {
      "cell_type": "code",
      "source": [
        "print(\"Username:\", username)\n",
        "print(\"password:\", password)\n",
        "print(\"email:\", email)\n",
        "print(\"repository:\", repo)\n",
        "print(\"token:\", token)"
      ],
      "metadata": {
        "id": "5wHlQw3I9PEY"
      },
      "execution_count": null,
      "outputs": []
    },
    {
      "cell_type": "code",
      "source": [
        "# clone your repository to the created folder\n",
        "!git clone https://github.com/{username}/{repo}.git"
      ],
      "metadata": {
        "colab": {
          "base_uri": "https://localhost:8080/"
        },
        "id": "N9Fglqdu49i0",
        "outputId": "e7d53f09-d7ca-469e-f7e9-0477d4022824"
      },
      "execution_count": 10,
      "outputs": [
        {
          "output_type": "stream",
          "name": "stdout",
          "text": [
            "Cloning into 'How-to-push-to-Github-from-Google-Colab'...\n",
            "remote: Enumerating objects: 6, done.\u001b[K\n",
            "remote: Counting objects: 100% (6/6), done.\u001b[K\n",
            "remote: Compressing objects: 100% (5/5), done.\u001b[K\n",
            "remote: Total 6 (delta 0), reused 0 (delta 0), pack-reused 0\u001b[K\n",
            "Unpacking objects: 100% (6/6), 1.71 KiB | 18.00 KiB/s, done.\n"
          ]
        }
      ]
    },
    {
      "cell_type": "code",
      "source": [
        "%cd {repo}"
      ],
      "metadata": {
        "colab": {
          "base_uri": "https://localhost:8080/"
        },
        "id": "LTlJQGPp40TH",
        "outputId": "9233b899-b08f-401b-82ec-5d4434c47252"
      },
      "execution_count": 26,
      "outputs": [
        {
          "output_type": "stream",
          "name": "stdout",
          "text": [
            "[Errno 2] No such file or directory: 'How-to-push-to-Github-from-Google-Colab'\n",
            "/content/drive/MyDrive/Github/How-to-push-to-Github-from-Google-Colab\n"
          ]
        }
      ]
    },
    {
      "cell_type": "code",
      "source": [
        "# create new file\n",
        "! touch new_file.py"
      ],
      "metadata": {
        "id": "EBYc1stw8I3y"
      },
      "execution_count": 13,
      "outputs": []
    },
    {
      "cell_type": "code",
      "source": [
        "# excute python file\n",
        "! python new_file.py"
      ],
      "metadata": {
        "colab": {
          "base_uri": "https://localhost:8080/"
        },
        "id": "kJXzJ28R8c1w",
        "outputId": "f2f60315-0df5-444e-cab7-9087ea8d85d5"
      },
      "execution_count": 14,
      "outputs": [
        {
          "output_type": "stream",
          "name": "stdout",
          "text": [
            "Hello world\n"
          ]
        }
      ]
    },
    {
      "cell_type": "code",
      "source": [
        "# verify the status \n",
        "!git status"
      ],
      "metadata": {
        "colab": {
          "base_uri": "https://localhost:8080/"
        },
        "id": "UMlzQ9zQ-aIv",
        "outputId": "ceebda41-d174-4a51-8596-1263a3c8822b"
      },
      "execution_count": 28,
      "outputs": [
        {
          "output_type": "stream",
          "name": "stdout",
          "text": [
            "On branch main\n",
            "Your branch is ahead of 'origin/main' by 1 commit.\n",
            "  (use \"git push\" to publish your local commits)\n",
            "\n",
            "nothing to commit, working tree clean\n"
          ]
        }
      ]
    },
    {
      "cell_type": "code",
      "source": [
        "# adding all changes \n",
        "!git add --all\n",
        "# !git add -a"
      ],
      "metadata": {
        "id": "snFoai4p-sWj"
      },
      "execution_count": 16,
      "outputs": []
    },
    {
      "cell_type": "code",
      "source": [
        "# verify the status again\n",
        "!git status"
      ],
      "metadata": {
        "colab": {
          "base_uri": "https://localhost:8080/"
        },
        "id": "l9M5fv8b--lC",
        "outputId": "4181ada1-b354-4c1d-c5a6-1046e608ddbc"
      },
      "execution_count": 18,
      "outputs": [
        {
          "output_type": "stream",
          "name": "stdout",
          "text": [
            "On branch main\n",
            "Your branch is up to date with 'origin/main'.\n",
            "\n",
            "Changes to be committed:\n",
            "  (use \"git restore --staged <file>...\" to unstage)\n",
            "\t\u001b[32mnew file:   new_file.py\u001b[m\n",
            "\n"
          ]
        }
      ]
    },
    {
      "cell_type": "code",
      "source": [
        "# commit changes \n",
        "!git commit -a -m \"commit changes\""
      ],
      "metadata": {
        "colab": {
          "base_uri": "https://localhost:8080/"
        },
        "id": "784co1nb_BCx",
        "outputId": "049dc86f-a528-49ca-b4f4-0b06ea1a8c65"
      },
      "execution_count": 19,
      "outputs": [
        {
          "output_type": "stream",
          "name": "stdout",
          "text": [
            "\n",
            "*** Please tell me who you are.\n",
            "\n",
            "Run\n",
            "\n",
            "  git config --global user.email \"you@example.com\"\n",
            "  git config --global user.name \"Your Name\"\n",
            "\n",
            "to set your account's default identity.\n",
            "Omit --global to set the identity only in this repository.\n",
            "\n",
            "fatal: unable to auto-detect email address (got 'root@4f573f241a7a.(none)')\n"
          ]
        }
      ]
    },
    {
      "cell_type": "code",
      "source": [
        "# configure global variables\n",
        "!git config --global user.email email\n",
        "!git config --global user.name username\n",
        "!git config --global user.password password"
      ],
      "metadata": {
        "id": "bBHr3lL6M0oR"
      },
      "execution_count": 22,
      "outputs": []
    },
    {
      "cell_type": "code",
      "source": [
        "# commit changes \n",
        "!git commit -a -m \"commit changes\""
      ],
      "metadata": {
        "colab": {
          "base_uri": "https://localhost:8080/"
        },
        "id": "WhE8OIM8Nfq3",
        "outputId": "8f379110-90dd-428b-b299-2e56d199a801"
      },
      "execution_count": 23,
      "outputs": [
        {
          "output_type": "stream",
          "name": "stdout",
          "text": [
            "[main 18aa1ed] commit changes\n",
            " 1 file changed, 1 insertion(+)\n",
            " create mode 100644 new_file.py\n"
          ]
        }
      ]
    },
    {
      "cell_type": "code",
      "source": [
        "# verify the status again\n",
        "!git status"
      ],
      "metadata": {
        "colab": {
          "base_uri": "https://localhost:8080/"
        },
        "id": "Ky62U28QNmEW",
        "outputId": "7c17b155-4b6a-4f48-80f0-e058c5c2ab0a"
      },
      "execution_count": 24,
      "outputs": [
        {
          "output_type": "stream",
          "name": "stdout",
          "text": [
            "On branch main\n",
            "Your branch is ahead of 'origin/main' by 1 commit.\n",
            "  (use \"git push\" to publish your local commits)\n",
            "\n",
            "nothing to commit, working tree clean\n"
          ]
        }
      ]
    },
    {
      "cell_type": "code",
      "source": [
        "# url of the all distant depots \n",
        "!git remote -v "
      ],
      "metadata": {
        "colab": {
          "base_uri": "https://localhost:8080/"
        },
        "id": "tu3oUg1zOTwM",
        "outputId": "df0f54bb-032a-431c-9b7b-616316245057"
      },
      "execution_count": 30,
      "outputs": [
        {
          "output_type": "stream",
          "name": "stdout",
          "text": [
            "origin\thttps://github.com/Imed-Ha/How-to-push-to-Github-from-Google-Colab.git (fetch)\n",
            "origin\thttps://github.com/Imed-Ha/How-to-push-to-Github-from-Google-Colab.git (push)\n"
          ]
        }
      ]
    },
    {
      "cell_type": "code",
      "source": [
        "# push changes to main branch\n",
        "!git push origin main"
      ],
      "metadata": {
        "id": "zMkByoqyNnid"
      },
      "execution_count": null,
      "outputs": []
    }
  ]
}